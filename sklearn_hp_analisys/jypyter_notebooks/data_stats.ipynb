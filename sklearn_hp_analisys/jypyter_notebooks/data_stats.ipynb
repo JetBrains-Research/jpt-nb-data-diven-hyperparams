{
 "cells": [
  {
   "cell_type": "code",
   "execution_count": 36,
   "metadata": {
    "pycharm": {
     "name": "#%%\n"
    }
   },
   "outputs": [],
   "source": [
    "%matplotlib inline\n",
    "import pandas as pd\n",
    "import json\n",
    "import seaborn as sns\n",
    "import matplotlib\n",
    "from matplotlib import pyplot as plt"
   ]
  },
  {
   "cell_type": "code",
   "execution_count": 37,
   "metadata": {
    "pycharm": {
     "name": "#%%\n"
    }
   },
   "outputs": [],
   "source": [
    "# path_to_extracted_data = '../results/extracted_data/dataset_results.json'\n",
    "path_to_extracted_data_v2 = '../results/extracted_data/dataset_results_v2.json'"
   ]
  },
  {
   "cell_type": "code",
   "execution_count": 38,
   "metadata": {
    "pycharm": {
     "name": "#%%\n"
    }
   },
   "outputs": [],
   "source": [
    "with open(path_to_extracted_data_v2) as input_json:\n",
    "    raw_data_v2 = json.load(input_json)\n",
    "\n",
    "\n"
   ]
  },
  {
   "cell_type": "code",
   "execution_count": 39,
   "metadata": {
    "pycharm": {
     "name": "#%%\n"
    }
   },
   "outputs": [
    {
     "name": "stdout",
     "output_type": "stream",
     "text": [
      "664208\n"
     ]
    }
   ],
   "source": [
    "\n",
    "print(len(raw_data_v2))"
   ]
  },
  {
   "cell_type": "code",
   "execution_count": 40,
   "metadata": {
    "pycharm": {
     "name": "#%%\n"
    }
   },
   "outputs": [],
   "source": [
    "import importlib\n",
    "import inspect\n",
    "def get_classes_names_to_module_names(package_name, modules_list):\n",
    "    cls_names_to_full_module_names = {}\n",
    "    for module_name in modules_list:\n",
    "        full_module_name = '.'.join([package_name, module_name])\n",
    "        module = importlib.import_module(full_module_name)\n",
    "        for class_name, obj in inspect.getmembers(module, inspect.isclass):\n",
    "            cls_names_to_full_module_names[class_name] = full_module_name\n",
    "    return cls_names_to_full_module_names\n",
    "\n",
    "\n",
    "SKLEARN_PACKAGE_NAME = 'sklearn'\n",
    "SKLEARN_MODULES_WITH_MODELS = ['cluster', 'discriminant_analysis', 'ensemble',\n",
    "                               'kernel_ridge', 'linear_model', 'naive_bayes',\n",
    "                               'neighbors', 'neural_network', 'semi_supervised',\n",
    "                               'svm', 'tree']\n",
    "\n",
    "MODEL_NAMES_TO_MODULE_NAMES = get_classes_names_to_module_names(SKLEARN_PACKAGE_NAME, SKLEARN_MODULES_WITH_MODELS)\n",
    "ML_MODELS_LIST = list(MODEL_NAMES_TO_MODULE_NAMES.keys())"
   ]
  },
  {
   "cell_type": "code",
   "execution_count": 41,
   "metadata": {
    "pycharm": {
     "name": "#%%\n"
    }
   },
   "outputs": [],
   "source": [
    "def only_sklearn_hyperparams(ml_model_name: str, hyperparams):\n",
    "\n",
    "    module_name = MODEL_NAMES_TO_MODULE_NAMES[ml_model_name]\n",
    "    module = importlib.import_module(module_name)\n",
    "\n",
    "    ModelClass = getattr(module, ml_model_name)\n",
    "\n",
    "    sklearn_hyperparams_set = set(inspect.signature(ModelClass.__init__).parameters.keys())\n",
    "\n",
    "    return dict(filter(lambda elem: elem[0] in sklearn_hyperparams_set, hyperparams.items()))"
   ]
  },
  {
   "cell_type": "code",
   "execution_count": 42,
   "metadata": {
    "pycharm": {
     "name": "#%%\n"
    }
   },
   "outputs": [],
   "source": [
    "ml_model_name = 'LogisticRegression'"
   ]
  },
  {
   "cell_type": "code",
   "execution_count": 43,
   "metadata": {
    "pycharm": {
     "name": "#%%\n"
    }
   },
   "outputs": [],
   "source": [
    "samples = []\n",
    "for entry in raw_data_v2:\n",
    "    if entry['model']['model_name'] == ml_model_name:\n",
    "        sample = entry['model']['params']\n",
    "        filtered_sample = only_sklearn_hyperparams(ml_model_name, sample)\n",
    "        samples.append(filtered_sample)"
   ]
  },
  {
   "cell_type": "code",
   "execution_count": 44,
   "metadata": {
    "pycharm": {
     "name": "#%%\n"
    }
   },
   "outputs": [
    {
     "name": "stdout",
     "output_type": "stream",
     "text": [
      "  penalty  random_state        C  multi_class solver class_weight  max_iter  \\\n",
      "0      l1      0.000000      NaN          NaN    NaN          NaN       nan   \n",
      "1      l1           nan 0.100000          NaN    NaN          NaN       nan   \n",
      "2     NaN           nan      NaN          NaN    NaN          NaN       nan   \n",
      "3     NaN           nan      NaN          NaN    NaN          NaN       nan   \n",
      "4     NaN           nan      NaN          NaN    NaN          NaN       nan   \n",
      "5     NaN           nan      NaN          NaN    NaN          NaN       nan   \n",
      "6     NaN           nan      NaN          NaN    NaN          NaN       nan   \n",
      "7      l2      0.000000 0.001000          NaN    NaN          NaN       nan   \n",
      "8     NaN           nan      NaN  multinomial  lbfgs          NaN       nan   \n",
      "9     NaN           nan      NaN          NaN    NaN          NaN       nan   \n",
      "\n",
      "   tol  intercept_scaling  verbose n_jobs  fit_intercept  warm_start  \n",
      "0  nan                nan      nan    NaN            nan         nan  \n",
      "1  nan                nan      nan    NaN            nan         nan  \n",
      "2  nan                nan      nan    NaN            nan         nan  \n",
      "3  nan                nan      nan    NaN            nan         nan  \n",
      "4  nan                nan      nan    NaN            nan         nan  \n",
      "5  nan                nan      nan    NaN            nan         nan  \n",
      "6  nan                nan      nan    NaN            nan         nan  \n",
      "7  nan                nan      nan    NaN            nan         nan  \n",
      "8  nan                nan      nan    NaN            nan         nan  \n",
      "9  nan                nan      nan    NaN            nan         nan  \n"
     ]
    }
   ],
   "source": [
    "df = pd.DataFrame(samples)\n",
    "print(df.head(10))"
   ]
  },
  {
   "cell_type": "code",
   "execution_count": 45,
   "metadata": {
    "pycharm": {
     "name": "#%%\n"
    }
   },
   "outputs": [
    {
     "name": "stdout",
     "output_type": "stream",
     "text": [
      "1            0.100000\n",
      "7            0.001000\n",
      "10      100000.000000\n",
      "12           1.000000\n",
      "17           0.001000\n",
      "             ...     \n",
      "78313        0.080000\n",
      "78314        1.000000\n",
      "78315       13.000000\n",
      "78348        2.000000\n",
      "78349        0.001000\n",
      "Name: C, Length: 16313, dtype: float64\n"
     ]
    }
   ],
   "source": [
    "print(pd.to_numeric(df['C']).dropna())"
   ]
  },
  {
   "cell_type": "code",
   "execution_count": 46,
   "metadata": {
    "pycharm": {
     "name": "#%%\n"
    }
   },
   "outputs": [],
   "source": [
    "numeric_C = pd.to_numeric(df['C']).dropna()\n",
    "\n"
   ]
  },
  {
   "cell_type": "code",
   "execution_count": 47,
   "metadata": {
    "pycharm": {
     "name": "#%%\n"
    }
   },
   "outputs": [
    {
     "data": {
      "text/plain": [
       "count                                         16313.000000\n",
       "mean    91951204564457807756519172621439714094637305263...\n",
       "std     30310441462553839215331775746199241798611391182...\n",
       "min                                               0.000000\n",
       "25%                                               0.100000\n",
       "50%                                               1.000000\n",
       "75%                                             500.000000\n",
       "max     10000000000000000159028911097599180468360808563...\n",
       "Name: C, dtype: float64"
      ]
     },
     "execution_count": 47,
     "metadata": {},
     "output_type": "execute_result"
    }
   ],
   "source": [
    "numeric_C.describe()"
   ]
  },
  {
   "cell_type": "code",
   "execution_count": 48,
   "metadata": {
    "pycharm": {
     "name": "#%%\n"
    }
   },
   "outputs": [],
   "source": [
    "Q1 = numeric_C.quantile(0.025)\n",
    "Q3 = numeric_C.quantile(0.975)\n",
    "IQR = Q3 - Q1"
   ]
  },
  {
   "cell_type": "code",
   "execution_count": 49,
   "metadata": {
    "pycharm": {
     "name": "#%%\n"
    }
   },
   "outputs": [
    {
     "data": {
      "text/plain": [
       "1            0.100000\n",
       "7            0.001000\n",
       "10      100000.000000\n",
       "12           1.000000\n",
       "17           0.001000\n",
       "             ...     \n",
       "78313        0.080000\n",
       "78314        1.000000\n",
       "78315       13.000000\n",
       "78348        2.000000\n",
       "78349        0.001000\n",
       "Name: C, Length: 16313, dtype: float64"
      ]
     },
     "execution_count": 49,
     "metadata": {},
     "output_type": "execute_result"
    }
   ],
   "source": [
    "numeric_C"
   ]
  },
  {
   "cell_type": "code",
   "execution_count": 50,
   "metadata": {
    "pycharm": {
     "name": "#%%\n"
    }
   },
   "outputs": [],
   "source": [
    "filtered_C = numeric_C.where(lambda x: ~((x < (Q1 - 1.5 * IQR)) | (x > (Q3 + 1.5 * IQR)))).dropna()"
   ]
  },
  {
   "cell_type": "code",
   "execution_count": 51,
   "metadata": {
    "pycharm": {
     "name": "#%%\n"
    }
   },
   "outputs": [
    {
     "data": {
      "text/plain": [
       "count        15915.000000\n",
       "mean      40325966.177345\n",
       "std      195016354.885524\n",
       "min              0.000000\n",
       "25%              0.100000\n",
       "50%              1.000000\n",
       "75%            100.000000\n",
       "max     1000000000.000000\n",
       "Name: C, dtype: float64"
      ]
     },
     "execution_count": 51,
     "metadata": {},
     "output_type": "execute_result"
    }
   ],
   "source": [
    "pd.set_option('float_format', '{:f}'.format)\n",
    "filtered_C.describe()"
   ]
  },
  {
   "cell_type": "code",
   "execution_count": 52,
   "metadata": {
    "pycharm": {
     "name": "#%%\n"
    }
   },
   "outputs": [
    {
     "data": {
      "text/plain": [
       "1.000000         3195\n",
       "0.100000         1874\n",
       "100.000000       1582\n",
       "100000.000000    1412\n",
       "10.000000        1030\n",
       "                 ... \n",
       "120.000000          1\n",
       "3.125000            1\n",
       "51.000000           1\n",
       "0.257576            1\n",
       "44444.500000        1\n",
       "Name: C, Length: 404, dtype: int64"
      ]
     },
     "execution_count": 52,
     "metadata": {},
     "output_type": "execute_result"
    }
   ],
   "source": [
    "filtered_C.value_counts()"
   ]
  },
  {
   "cell_type": "code",
   "execution_count": 53,
   "metadata": {
    "pycharm": {
     "name": "#%%\n"
    }
   },
   "outputs": [],
   "source": [
    "def hist_plot_on_interval(values, interval=None):\n",
    "    if interval is not None:\n",
    "        values_inside_interval = values.where(lambda x: (x >= interval[0]) & (x <= interval[1])).dropna()\n",
    "    else:\n",
    "        values_inside_interval = values\n",
    "    return sns.histplot(values_inside_interval, bins='doane', kde=True)\n",
    "    "
   ]
  },
  {
   "cell_type": "code",
   "execution_count": 55,
   "metadata": {
    "pycharm": {
     "name": "#%%\n"
    }
   },
   "outputs": [
    {
     "data": {
      "text/plain": [
       "<AxesSubplot:xlabel='C', ylabel='Count'>"
      ]
     },
     "execution_count": 55,
     "metadata": {},
     "output_type": "execute_result"
    },
    {
     "data": {
      "image/png": "[encoded data removed]",
      "text/plain": [
       "<Figure size 432x288 with 1 Axes>"
      ]
     },
     "metadata": {
      "needs_background": "light"
     },
     "output_type": "display_data"
    }
   ],
   "source": [
    "hist_plot_on_interval(filtered_C, (0., 100.))\n",
    "\n",
    "\n",
    "\n"
   ]
  },
  {
   "cell_type": "code",
   "execution_count": 20,
   "metadata": {
    "pycharm": {
     "name": "#%%\n"
    }
   },
   "outputs": [],
   "source": [
    "module_name = MODEL_NAMES_TO_MODULE_NAMES[ml_model_name]\n",
    "module = importlib.import_module(module_name)\n",
    "ModelClass = getattr(module, ml_model_name)\n",
    "\n",
    "sign = inspect.signature(ModelClass.__init__)\n"
   ]
  },
  {
   "cell_type": "code",
   "execution_count": 21,
   "metadata": {
    "pycharm": {
     "name": "#%%\n"
    }
   },
   "outputs": [
    {
     "data": {
      "text/plain": [
       "1.0"
      ]
     },
     "execution_count": 21,
     "metadata": {},
     "output_type": "execute_result"
    }
   ],
   "source": [
    "sign.parameters['C'].default"
   ]
  },
  {
   "cell_type": "code",
   "execution_count": 22,
   "metadata": {
    "pycharm": {
     "name": "#%%\n"
    }
   },
   "outputs": [],
   "source": [
    "CODE_CELL_HEADER = '#%%'\n",
    "MD_CELL_HEADER = '#%% md'\n",
    "RAW_CELL_HEADER = '#%% raw'\n",
    "\n",
    "def generate_notebook_txt(df, df_row_idx, up_to_cell_number=None, include_non_code_cells=True):\n",
    "    row = df[df['id'] == df_row_idx]\n",
    "    repo_id = row['repository_id'].values[0]\n",
    "    notebook_id = row['notebook_id'].values[0]\n",
    "    \n",
    "    only_notebook_cells = df[df['notebook_id'] == notebook_id]\n",
    "    if not include_non_code_cells:\n",
    "        only_notebook_cells = only_notebook_cells[only_notebook_cells['cell_type'] == 'code']\n",
    "    \n",
    "    result = ''\n",
    "    for idx, record in only_notebook_cells.sort_values(by=['index']).iterrows():\n",
    "        record_cell_type = record['cell_type']\n",
    "        if record_cell_type == 'code':\n",
    "            result += CODE_CELL_HEADER + '\\n'\n",
    "        elif record_cell_type == 'markdown':\n",
    "            result += MD_CELL_HEADER + '\\n'\n",
    "        elif record_cell_type == 'raw':\n",
    "            result += RAW_CELL_HEADER + '\\n'\n",
    "        \n",
    "        else:\n",
    "            raise RuntimeError(f'Unknown cell type: {record_cell_type}')\n",
    "        \n",
    "        result += record['source'] + '\\n'\n",
    "    \n",
    "    return result\n",
    "    "
   ]
  },
  {
   "cell_type": "code",
   "execution_count": 80,
   "metadata": {
    "pycharm": {
     "name": "#%%\n"
    }
   },
   "outputs": [],
   "source": [
    "\n",
    "path_to_data = '../../dataset/sklearn_full_cells.csv'"
   ]
  },
  {
   "cell_type": "code",
   "execution_count": 81,
   "metadata": {
    "pycharm": {
     "name": "#%%\n"
    }
   },
   "outputs": [],
   "source": [
    "df = pd.read_csv(path_to_data, nrows=500000)"
   ]
  },
  {
   "cell_type": "code",
   "execution_count": 82,
   "metadata": {
    "pycharm": {
     "name": "#%%\n"
    }
   },
   "outputs": [
    {
     "data": {
      "text/html": [
       "<div>\n",
       "<style scoped>\n",
       "    .dataframe tbody tr th:only-of-type {\n",
       "        vertical-align: middle;\n",
       "    }\n",
       "\n",
       "    .dataframe tbody tr th {\n",
       "        vertical-align: top;\n",
       "    }\n",
       "\n",
       "    .dataframe thead th {\n",
       "        text-align: right;\n",
       "    }\n",
       "</style>\n",
       "<table border=\"1\" class=\"dataframe\">\n",
       "  <thead>\n",
       "    <tr style=\"text-align: right;\">\n",
       "      <th></th>\n",
       "      <th>Unnamed: 0</th>\n",
       "      <th>id</th>\n",
       "      <th>repository_id</th>\n",
       "      <th>notebook_id</th>\n",
       "      <th>index</th>\n",
       "      <th>cell_type</th>\n",
       "      <th>execution_count</th>\n",
       "      <th>lines</th>\n",
       "      <th>output_formats</th>\n",
       "      <th>source</th>\n",
       "      <th>python</th>\n",
       "      <th>processed</th>\n",
       "      <th>skip</th>\n",
       "      <th>v</th>\n",
       "    </tr>\n",
       "  </thead>\n",
       "  <tbody>\n",
       "    <tr>\n",
       "      <th>0</th>\n",
       "      <td>0</td>\n",
       "      <td>23191644</td>\n",
       "      <td>130180</td>\n",
       "      <td>808459</td>\n",
       "      <td>9</td>\n",
       "      <td>code</td>\n",
       "      <td>13.000000</td>\n",
       "      <td>2</td>\n",
       "      <td>text/html;text/plain</td>\n",
       "      <td>HTML(data=\"\"\"&lt;iframe width=\"854\" height=\"480\" ...</td>\n",
       "      <td>True</td>\n",
       "      <td>4</td>\n",
       "      <td>0</td>\n",
       "      <td>808459</td>\n",
       "    </tr>\n",
       "    <tr>\n",
       "      <th>1</th>\n",
       "      <td>1</td>\n",
       "      <td>23191643</td>\n",
       "      <td>130180</td>\n",
       "      <td>808459</td>\n",
       "      <td>8</td>\n",
       "      <td>code</td>\n",
       "      <td>12.000000</td>\n",
       "      <td>4</td>\n",
       "      <td>text/html;text/plain</td>\n",
       "      <td>from IPython.display import HTML\\n\\nHTML(data=...</td>\n",
       "      <td>True</td>\n",
       "      <td>4</td>\n",
       "      <td>0</td>\n",
       "      <td>808459</td>\n",
       "    </tr>\n",
       "    <tr>\n",
       "      <th>2</th>\n",
       "      <td>2</td>\n",
       "      <td>23191635</td>\n",
       "      <td>130180</td>\n",
       "      <td>808459</td>\n",
       "      <td>0</td>\n",
       "      <td>code</td>\n",
       "      <td>3.000000</td>\n",
       "      <td>3</td>\n",
       "      <td>NaN</td>\n",
       "      <td>get_ipython().run_line_magic('pylab', 'inline'...</td>\n",
       "      <td>True</td>\n",
       "      <td>4</td>\n",
       "      <td>0</td>\n",
       "      <td>808459</td>\n",
       "    </tr>\n",
       "    <tr>\n",
       "      <th>3</th>\n",
       "      <td>3</td>\n",
       "      <td>23191646</td>\n",
       "      <td>130180</td>\n",
       "      <td>808459</td>\n",
       "      <td>11</td>\n",
       "      <td>code</td>\n",
       "      <td>3.000000</td>\n",
       "      <td>29</td>\n",
       "      <td>text/plain;image/png</td>\n",
       "      <td>from sklearn.datasets import load_iris\\nget_ip...</td>\n",
       "      <td>True</td>\n",
       "      <td>4</td>\n",
       "      <td>0</td>\n",
       "      <td>808459</td>\n",
       "    </tr>\n",
       "    <tr>\n",
       "      <th>4</th>\n",
       "      <td>4</td>\n",
       "      <td>23191649</td>\n",
       "      <td>130180</td>\n",
       "      <td>808459</td>\n",
       "      <td>14</td>\n",
       "      <td>code</td>\n",
       "      <td>nan</td>\n",
       "      <td>1</td>\n",
       "      <td>NaN</td>\n",
       "      <td>\\n</td>\n",
       "      <td>True</td>\n",
       "      <td>4</td>\n",
       "      <td>0</td>\n",
       "      <td>808459</td>\n",
       "    </tr>\n",
       "    <tr>\n",
       "      <th>5</th>\n",
       "      <td>5</td>\n",
       "      <td>23191648</td>\n",
       "      <td>130180</td>\n",
       "      <td>808459</td>\n",
       "      <td>13</td>\n",
       "      <td>markdown</td>\n",
       "      <td>nan</td>\n",
       "      <td>1</td>\n",
       "      <td>NaN</td>\n",
       "      <td>&lt;img src=\"http://scikit-learn.sourceforge.net/...</td>\n",
       "      <td>True</td>\n",
       "      <td>4</td>\n",
       "      <td>0</td>\n",
       "      <td>808459</td>\n",
       "    </tr>\n",
       "    <tr>\n",
       "      <th>6</th>\n",
       "      <td>6</td>\n",
       "      <td>23191637</td>\n",
       "      <td>130180</td>\n",
       "      <td>808459</td>\n",
       "      <td>2</td>\n",
       "      <td>markdown</td>\n",
       "      <td>nan</td>\n",
       "      <td>1</td>\n",
       "      <td>NaN</td>\n",
       "      <td>&lt;img src='imgs/svm.jpg'&gt;\\n</td>\n",
       "      <td>True</td>\n",
       "      <td>4</td>\n",
       "      <td>0</td>\n",
       "      <td>808459</td>\n",
       "    </tr>\n",
       "    <tr>\n",
       "      <th>7</th>\n",
       "      <td>7</td>\n",
       "      <td>23191636</td>\n",
       "      <td>130180</td>\n",
       "      <td>808459</td>\n",
       "      <td>1</td>\n",
       "      <td>markdown</td>\n",
       "      <td>nan</td>\n",
       "      <td>1</td>\n",
       "      <td>NaN</td>\n",
       "      <td># SVM, support vector machine\\n</td>\n",
       "      <td>True</td>\n",
       "      <td>4</td>\n",
       "      <td>0</td>\n",
       "      <td>808459</td>\n",
       "    </tr>\n",
       "    <tr>\n",
       "      <th>8</th>\n",
       "      <td>8</td>\n",
       "      <td>23191638</td>\n",
       "      <td>130180</td>\n",
       "      <td>808459</td>\n",
       "      <td>3</td>\n",
       "      <td>markdown</td>\n",
       "      <td>nan</td>\n",
       "      <td>19</td>\n",
       "      <td>NaN</td>\n",
       "      <td>Дискриминантная функция: $$f(\\overline{x}, \\ov...</td>\n",
       "      <td>True</td>\n",
       "      <td>4</td>\n",
       "      <td>0</td>\n",
       "      <td>808459</td>\n",
       "    </tr>\n",
       "    <tr>\n",
       "      <th>9</th>\n",
       "      <td>9</td>\n",
       "      <td>23191647</td>\n",
       "      <td>130180</td>\n",
       "      <td>808459</td>\n",
       "      <td>12</td>\n",
       "      <td>markdown</td>\n",
       "      <td>nan</td>\n",
       "      <td>2</td>\n",
       "      <td>NaN</td>\n",
       "      <td>SVM можно использовать и для регрессии:\\n&lt;a hr...</td>\n",
       "      <td>True</td>\n",
       "      <td>4</td>\n",
       "      <td>0</td>\n",
       "      <td>808459</td>\n",
       "    </tr>\n",
       "    <tr>\n",
       "      <th>10</th>\n",
       "      <td>10</td>\n",
       "      <td>23191645</td>\n",
       "      <td>130180</td>\n",
       "      <td>808459</td>\n",
       "      <td>10</td>\n",
       "      <td>markdown</td>\n",
       "      <td>nan</td>\n",
       "      <td>3</td>\n",
       "      <td>NaN</td>\n",
       "      <td>&lt;img src=\"imgs/4.jpg\" width=700&gt;\\nКод, который...</td>\n",
       "      <td>True</td>\n",
       "      <td>4</td>\n",
       "      <td>0</td>\n",
       "      <td>808459</td>\n",
       "    </tr>\n",
       "    <tr>\n",
       "      <th>11</th>\n",
       "      <td>11</td>\n",
       "      <td>23191641</td>\n",
       "      <td>130180</td>\n",
       "      <td>808459</td>\n",
       "      <td>6</td>\n",
       "      <td>markdown</td>\n",
       "      <td>nan</td>\n",
       "      <td>13</td>\n",
       "      <td>NaN</td>\n",
       "      <td>Новое решающее правило:\\n\\n$$a(\\overline{x}, \\...</td>\n",
       "      <td>True</td>\n",
       "      <td>4</td>\n",
       "      <td>0</td>\n",
       "      <td>808459</td>\n",
       "    </tr>\n",
       "    <tr>\n",
       "      <th>12</th>\n",
       "      <td>12</td>\n",
       "      <td>23191639</td>\n",
       "      <td>130180</td>\n",
       "      <td>808459</td>\n",
       "      <td>4</td>\n",
       "      <td>markdown</td>\n",
       "      <td>nan</td>\n",
       "      <td>5</td>\n",
       "      <td>NaN</td>\n",
       "      <td>&lt;img src=\"imgs/2.jpg\" width=500&gt;\\n&lt;br&gt;&lt;br&gt;\\n$$...</td>\n",
       "      <td>True</td>\n",
       "      <td>4</td>\n",
       "      <td>0</td>\n",
       "      <td>808459</td>\n",
       "    </tr>\n",
       "    <tr>\n",
       "      <th>13</th>\n",
       "      <td>13</td>\n",
       "      <td>23191642</td>\n",
       "      <td>130180</td>\n",
       "      <td>808459</td>\n",
       "      <td>7</td>\n",
       "      <td>markdown</td>\n",
       "      <td>nan</td>\n",
       "      <td>4</td>\n",
       "      <td>NaN</td>\n",
       "      <td># Kernel trick\\n$$\\varphi: X \\rightarrow H$$\\n...</td>\n",
       "      <td>True</td>\n",
       "      <td>4</td>\n",
       "      <td>0</td>\n",
       "      <td>808459</td>\n",
       "    </tr>\n",
       "    <tr>\n",
       "      <th>14</th>\n",
       "      <td>14</td>\n",
       "      <td>23191640</td>\n",
       "      <td>130180</td>\n",
       "      <td>808459</td>\n",
       "      <td>5</td>\n",
       "      <td>markdown</td>\n",
       "      <td>nan</td>\n",
       "      <td>1</td>\n",
       "      <td>NaN</td>\n",
       "      <td>&lt;img src=\"imgs/3.png\" width=400&gt;\\n</td>\n",
       "      <td>True</td>\n",
       "      <td>4</td>\n",
       "      <td>0</td>\n",
       "      <td>808459</td>\n",
       "    </tr>\n",
       "  </tbody>\n",
       "</table>\n",
       "</div>"
      ],
      "text/plain": [
       "    Unnamed: 0        id  repository_id  notebook_id  index cell_type  \\\n",
       "0            0  23191644         130180       808459      9      code   \n",
       "1            1  23191643         130180       808459      8      code   \n",
       "2            2  23191635         130180       808459      0      code   \n",
       "3            3  23191646         130180       808459     11      code   \n",
       "4            4  23191649         130180       808459     14      code   \n",
       "5            5  23191648         130180       808459     13  markdown   \n",
       "6            6  23191637         130180       808459      2  markdown   \n",
       "7            7  23191636         130180       808459      1  markdown   \n",
       "8            8  23191638         130180       808459      3  markdown   \n",
       "9            9  23191647         130180       808459     12  markdown   \n",
       "10          10  23191645         130180       808459     10  markdown   \n",
       "11          11  23191641         130180       808459      6  markdown   \n",
       "12          12  23191639         130180       808459      4  markdown   \n",
       "13          13  23191642         130180       808459      7  markdown   \n",
       "14          14  23191640         130180       808459      5  markdown   \n",
       "\n",
       "    execution_count  lines        output_formats  \\\n",
       "0         13.000000      2  text/html;text/plain   \n",
       "1         12.000000      4  text/html;text/plain   \n",
       "2          3.000000      3                   NaN   \n",
       "3          3.000000     29  text/plain;image/png   \n",
       "4               nan      1                   NaN   \n",
       "5               nan      1                   NaN   \n",
       "6               nan      1                   NaN   \n",
       "7               nan      1                   NaN   \n",
       "8               nan     19                   NaN   \n",
       "9               nan      2                   NaN   \n",
       "10              nan      3                   NaN   \n",
       "11              nan     13                   NaN   \n",
       "12              nan      5                   NaN   \n",
       "13              nan      4                   NaN   \n",
       "14              nan      1                   NaN   \n",
       "\n",
       "                                               source  python  processed  \\\n",
       "0   HTML(data=\"\"\"<iframe width=\"854\" height=\"480\" ...    True          4   \n",
       "1   from IPython.display import HTML\\n\\nHTML(data=...    True          4   \n",
       "2   get_ipython().run_line_magic('pylab', 'inline'...    True          4   \n",
       "3   from sklearn.datasets import load_iris\\nget_ip...    True          4   \n",
       "4                                                  \\n    True          4   \n",
       "5   <img src=\"http://scikit-learn.sourceforge.net/...    True          4   \n",
       "6                          <img src='imgs/svm.jpg'>\\n    True          4   \n",
       "7                     # SVM, support vector machine\\n    True          4   \n",
       "8   Дискриминантная функция: $$f(\\overline{x}, \\ov...    True          4   \n",
       "9   SVM можно использовать и для регрессии:\\n<a hr...    True          4   \n",
       "10  <img src=\"imgs/4.jpg\" width=700>\\nКод, который...    True          4   \n",
       "11  Новое решающее правило:\\n\\n$$a(\\overline{x}, \\...    True          4   \n",
       "12  <img src=\"imgs/2.jpg\" width=500>\\n<br><br>\\n$$...    True          4   \n",
       "13  # Kernel trick\\n$$\\varphi: X \\rightarrow H$$\\n...    True          4   \n",
       "14                 <img src=\"imgs/3.png\" width=400>\\n    True          4   \n",
       "\n",
       "    skip       v  \n",
       "0      0  808459  \n",
       "1      0  808459  \n",
       "2      0  808459  \n",
       "3      0  808459  \n",
       "4      0  808459  \n",
       "5      0  808459  \n",
       "6      0  808459  \n",
       "7      0  808459  \n",
       "8      0  808459  \n",
       "9      0  808459  \n",
       "10     0  808459  \n",
       "11     0  808459  \n",
       "12     0  808459  \n",
       "13     0  808459  \n",
       "14     0  808459  "
      ]
     },
     "execution_count": 82,
     "metadata": {},
     "output_type": "execute_result"
    }
   ],
   "source": [
    "df.head(15)\n"
   ]
  },
  {
   "cell_type": "code",
   "execution_count": 26,
   "metadata": {
    "pycharm": {
     "name": "#%%\n"
    }
   },
   "outputs": [],
   "source": [
    "src23191647 = generate_notebook_txt(df,df_row_idx=23191647)"
   ]
  },
  {
   "cell_type": "code",
   "execution_count": 27,
   "metadata": {
    "pycharm": {
     "name": "#%%\n"
    }
   },
   "outputs": [],
   "source": [
    "import os\n",
    "def save_jupyter_notebook_txt(src, notebook_id, folder):\n",
    "    fname = '.'.join((str(notebook_id), 'txt'))\n",
    "    path = os.path.join(folder, fname)\n",
    "    \n",
    "    with open(path, 'w') as out_f:\n",
    "        out_f.write(src)\n"
   ]
  },
  {
   "cell_type": "code",
   "execution_count": 30,
   "metadata": {
    "pycharm": {
     "name": "#%%\n"
    }
   },
   "outputs": [],
   "source": [
    "FOLDER = 'recovered_notebooks'"
   ]
  },
  {
   "cell_type": "code",
   "execution_count": 31,
   "metadata": {
    "pycharm": {
     "name": "#%%\n"
    }
   },
   "outputs": [],
   "source": [
    "save_jupyter_notebook_txt(src23191647, notebook_id=808459, folder=FOLDER)"
   ]
  },
  {
   "cell_type": "code",
   "execution_count": 32,
   "metadata": {
    "pycharm": {
     "name": "#%%\n"
    }
   },
   "outputs": [
    {
     "name": "stdout",
     "output_type": "stream",
     "text": [
      "#%%\n",
      "get_ipython().run_line_magic('pylab', 'inline')\n",
      "get_ipython().run_line_magic('matplotlib', 'inline')\n",
      "import seaborn as sns\n",
      "\n",
      "#%% md\n",
      "# SVM, support vector machine\n",
      "\n",
      "#%% md\n",
      "<img src='imgs/svm.jpg'>\n",
      "\n",
      "#%% md\n",
      "Дискриминантная функция: $$f(\\overline{x}, \\overline{w}, w_0) = \\langle \\overline{w}, \\overline{x} \\rangle - w_0$$\n",
      "\n",
      "Решающее правило: $$a(\\overline{x}, \\overline{w}, w_0) = \n",
      "\\left[ \n",
      "  \\begin{gathered} \n",
      "      1, \\langle \\overline{w}, \\overline{x} \\rangle - w_0 > 0,\n",
      "      \\\\ \n",
      "      0, \\langle \\overline{w}, \\overline{x} \\rangle - w_0 \\leqslant 0\n",
      "      \\\\ \n",
      "    \\end{gathered} \n",
      "\\right.$$\n",
      "\n",
      "Критерий - минимизация эмпирического риска:\n",
      "\n",
      "$$\n",
      "  \\sum_{i=1}^{l} \\Bigl[ a(\\overline{x_i}, \\overline{w}, w_0) \\ne y_i \\Bigr] =   \\sum_{i=1}^{l} \\Bigl[ M_i(\\overline{w}, w_0) < 0 \\Bigr] \\longrightarrow  \\displaystyle \\min_{\\overline{w}, w_0}\n",
      "$$\n",
      "\n",
      "где $M_i(\\overline{w}, w_0) = ( \\langle \\overline{w}, \\overline{x_i} \\rangle - w_0 ) \\cdot sign(y_i > 0.5)$\n",
      "\n",
      "#%% md\n",
      "<img src=\"imgs/2.jpg\" width=500>\n",
      "<br><br>\n",
      "$$\n",
      "Q(\\overline{w}, w_0) = \\sum_{i=1}^{l} \\Bigl[ M_i(\\overline{w}, w_0) < 0 \\Bigr] \\leqslant \\sum_{i=1}^{l} \\bigl(1 - M_i(\\overline{w}, w_0) \\bigr)_{\\!+} + \\frac{1}{C} \\sum_{j=1}^{n}w_j^2 \\longrightarrow  \\displaystyle \\min_{\\overline{w}, w_0}\n",
      "$$\n",
      "\n",
      "#%% md\n",
      "<img src=\"imgs/3.png\" width=400>\n",
      "\n",
      "#%% md\n",
      "Новое решающее правило:\n",
      "\n",
      "$$a(\\overline{x}, \\overline{w}, w_0) = \n",
      "\\left[ \n",
      "  \\begin{gathered} \n",
      "      1, \\sum_{i=1} ^{l} \\bigl(\\lambda _i \\cdot \\langle \\overline{x_i}, \\overline{x} \\rangle \\cdot sign(y_i > 0.5)\\bigr)  - w_0 > 0,\n",
      "      \\\\ \n",
      "      0, иначе\n",
      "      \\\\ \n",
      "    \\end{gathered} \n",
      "\\right.$$\n",
      "\n",
      "где $w_0 = \\sum_{i=1} ^{l} \\bigl(\\lambda _i \\cdot \\langle \\overline{x_i}, \\overline{x_k} \\rangle \\cdot sign(y_i > 0.5) - y_k\\bigr)$ для такого $k$, что  $\\lambda_k > 0, M_j=1$\n",
      "\n",
      "#%% md\n",
      "# Kernel trick\n",
      "$$\\varphi: X \\rightarrow H$$\n",
      "\n",
      "$$K(\\overline{x}, \\overline{x}') =  \\langle \\varphi(\\overline{x}),\\varphi(\\overline{x}') \\rangle $$\n",
      "\n",
      "#%%\n",
      "from IPython.display import HTML\n",
      "\n",
      "HTML(data=\"\"\"<iframe width=\"854\" height=\"480\" src=\"https://www.youtube.com/embed/3liCbRZPrZA\" \n",
      "            frameborder=\"0\" allowfullscreen></iframe>\"\"\")\n",
      "\n",
      "#%%\n",
      "HTML(data=\"\"\"<iframe width=\"854\" height=\"480\" src=\"https://www.youtube.com/embed/MxUy7hKIU8c\" \n",
      "frameborder=\"0\" allowfullscreen></iframe>\"\"\")\n",
      "\n",
      "#%% md\n",
      "<img src=\"imgs/4.jpg\" width=700>\n",
      "Код, который генерит эти изображения:\n",
      "http://scikit-learn.org/stable/auto_examples/exercises/plot_iris_exercise.html#sphx-glr-auto-examples-exercises-plot-iris-exercise-py\n",
      "\n",
      "#%%\n",
      "from sklearn.datasets import load_iris\n",
      "get_ipython().run_line_magic('matplotlib', 'inline')\n",
      "get_ipython().run_line_magic('pylab', 'inline')\n",
      "\n",
      "figure(figsize=(8,8))\n",
      "iris = load_iris()\n",
      "X = iris.data\n",
      "y = iris.target\n",
      "X = X[y != 2, :]\n",
      "y = y[y != 2]\n",
      "X = X[:, [0, 1]]\n",
      "\n",
      "from sklearn.svm import SVC\n",
      "svc = SVC(probability=True, kernel='rbf', gamma=100)\n",
      "svc.fit(X, y)\n",
      "\n",
      "X_0 = X[y==0, :]\n",
      "X_1 = X[y==1, :]\n",
      "\n",
      "\n",
      "xx, yy = np.meshgrid(np.arange(4., 7.5, 0.01),\n",
      "                     np.arange(1.5, 5., 0.01))\n",
      "\n",
      "Z = svc.predict_proba(np.c_[xx.ravel(), yy.ravel()])[:,1]\n",
      "Z = Z.reshape(xx.shape)\n",
      "cs = plt.contourf(xx, yy, Z, alpha=0.5, cmap=plt.cm.RdBu)\n",
      "\n",
      "scatter(X_0[:,0], X_0[:,1], c='r')\n",
      "_ = scatter(X_1[:,0], X_1[:,1], c='b')\n",
      "\n",
      "#%% md\n",
      "SVM можно использовать и для регрессии:\n",
      "<a href='http://scikit-learn.org/stable/modules/generated/sklearn.svm.SVR.html'>sklearn.svm.SVR</a>\n",
      "\n",
      "#%% md\n",
      "<img src=\"http://scikit-learn.sourceforge.net/stable/_images/plot_svm_regression_001.png\">\n",
      "\n",
      "#%%\n",
      "\n",
      "\n",
      "\n"
     ]
    }
   ],
   "source": [
    "print(src23191647)"
   ]
  },
  {
   "cell_type": "code",
   "execution_count": 75,
   "metadata": {},
   "outputs": [],
   "source": [
    "\n",
    "class JPT_NB_GRAMMAR:\n",
    "    \n",
    "    METADATA_KEY = 'metadata'\n",
    "    CELLS_KEY = 'cells'\n",
    "    CELL_TYPE_KEY = 'cell_type'\n",
    "    EXECUTION_COUNT_KEY = 'execution_count'\n",
    "    OUTPUTS_KEY = 'outputs'\n",
    "    SOURCE_KEY = 'source'\n",
    "    NBFORMAT_KEY = 'nbformat'\n",
    "    NBFORMAT_MINOR_KEY = 'nbformat_minor'\n",
    "    \n",
    "    \n",
    "    class DEFAULTS:\n",
    "        DEFAULT_CELL_METADATA = {}\n",
    "        DEFAULT_EXECUTION_COUNT = None\n",
    "        DEFAULT_OUTPUTS = []\n",
    "        \n",
    "        DEFAULT_NB_METADATA = {\n",
    "          \"kernelspec\": {\n",
    "           \"display_name\": \"Python 3\",\n",
    "           \"language\": \"python\",\n",
    "           \"name\": \"python3\"\n",
    "          },\n",
    "          \"language_info\": {\n",
    "           \"codemirror_mode\": {\n",
    "            \"name\": \"ipython\",\n",
    "            \"version\": 3\n",
    "           },\n",
    "           \"file_extension\": \".py\",\n",
    "           \"mimetype\": \"text/x-python\",\n",
    "           \"name\": \"python\",\n",
    "           \"nbconvert_exporter\": \"python\",\n",
    "           \"pygments_lexer\": \"ipython3\",\n",
    "           \"version\": \"3.7.8\"\n",
    "          }\n",
    "        }\n",
    "        DEFAULT_NBFORMAT = 4\n",
    "        DEFAULT_NBFORMAT_MINOR = 1\n"
   ]
  },
  {
   "cell_type": "code",
   "execution_count": 76,
   "metadata": {},
   "outputs": [
    {
     "data": {
      "text/plain": [
       "{'kernelspec': {'display_name': 'Python 3',\n",
       "  'language': 'python',\n",
       "  'name': 'python3'},\n",
       " 'language_info': {'codemirror_mode': {'name': 'ipython', 'version': 3},\n",
       "  'file_extension': '.py',\n",
       "  'mimetype': 'text/x-python',\n",
       "  'name': 'python',\n",
       "  'nbconvert_exporter': 'python',\n",
       "  'pygments_lexer': 'ipython3',\n",
       "  'version': '3.7.8'}}"
      ]
     },
     "execution_count": 76,
     "metadata": {},
     "output_type": "execute_result"
    }
   ],
   "source": [
    "JPT_NB_GRAMMAR.DEFAULTS.DEFAULT_NB_METADATA"
   ]
  },
  {
   "cell_type": "code",
   "execution_count": 77,
   "metadata": {},
   "outputs": [],
   "source": [
    "def generate_notebook_ipynb(df, df_row_idx, up_to_cell_number=None, include_non_code_cells=True):\n",
    "    row = df[df['id'] == df_row_idx]\n",
    "    repo_id = row['repository_id'].values[0]\n",
    "    notebook_id = row['notebook_id'].values[0]\n",
    "    \n",
    "    only_notebook_cells = df[df['notebook_id'] == notebook_id]\n",
    "    if not include_non_code_cells:\n",
    "        only_notebook_cells = only_notebook_cells[only_notebook_cells['cell_type'] == 'code']\n",
    "    \n",
    "    result = {}\n",
    "    \n",
    "    result[JPT_NB_GRAMMAR.METADATA_KEY] = JPT_NB_GRAMMAR.DEFAULTS.DEFAULT_NB_METADATA\n",
    "    result[JPT_NB_GRAMMAR.NBFORMAT_KEY] = JPT_NB_GRAMMAR.DEFAULTS.DEFAULT_NBFORMAT\n",
    "    result[JPT_NB_GRAMMAR.NBFORMAT_MINOR_KEY] = JPT_NB_GRAMMAR.DEFAULTS.DEFAULT_NBFORMAT_MINOR\n",
    "    \n",
    "    result[JPT_NB_GRAMMAR.CELLS_KEY] = []\n",
    "    \n",
    "    for idx, record in only_notebook_cells.sort_values(by=['index']).iterrows():\n",
    "        cell = {}\n",
    "        cell[JPT_NB_GRAMMAR.CELL_TYPE_KEY] = record['cell_type']\n",
    "        cell[JPT_NB_GRAMMAR.EXECUTION_COUNT_KEY] = JPT_NB_GRAMMAR.DEFAULTS.DEFAULT_EXECUTION_COUNT\n",
    "        cell[JPT_NB_GRAMMAR.METADATA_KEY] = JPT_NB_GRAMMAR.DEFAULTS.DEFAULT_CELL_METADATA\n",
    "        cell[JPT_NB_GRAMMAR.OUTPUTS_KEY] = JPT_NB_GRAMMAR.DEFAULTS.DEFAULT_OUTPUTS\n",
    "        cell[JPT_NB_GRAMMAR.SOURCE_KEY] = record['source']\n",
    "        \n",
    "        result[JPT_NB_GRAMMAR.CELLS_KEY].append(cell)\n",
    "    \n",
    "    return result"
   ]
  },
  {
   "cell_type": "code",
   "execution_count": 83,
   "metadata": {},
   "outputs": [
    {
     "data": {
      "text/plain": [
       "{'metadata': {'kernelspec': {'display_name': 'Python 3',\n",
       "   'language': 'python',\n",
       "   'name': 'python3'},\n",
       "  'language_info': {'codemirror_mode': {'name': 'ipython', 'version': 3},\n",
       "   'file_extension': '.py',\n",
       "   'mimetype': 'text/x-python',\n",
       "   'name': 'python',\n",
       "   'nbconvert_exporter': 'python',\n",
       "   'pygments_lexer': 'ipython3',\n",
       "   'version': '3.7.8'}},\n",
       " 'nbformat': 4,\n",
       " 'nbformat_minor': 1,\n",
       " 'cells': [{'cell_type': 'code',\n",
       "   'execution_count': None,\n",
       "   'metadata': {},\n",
       "   'outputs': [],\n",
       "   'source': \"get_ipython().run_line_magic('pylab', 'inline')\\nget_ipython().run_line_magic('matplotlib', 'inline')\\nimport seaborn as sns\\n\"},\n",
       "  {'cell_type': 'markdown',\n",
       "   'execution_count': None,\n",
       "   'metadata': {},\n",
       "   'outputs': [],\n",
       "   'source': '# SVM, support vector machine\\n'},\n",
       "  {'cell_type': 'markdown',\n",
       "   'execution_count': None,\n",
       "   'metadata': {},\n",
       "   'outputs': [],\n",
       "   'source': \"<img src='imgs/svm.jpg'>\\n\"},\n",
       "  {'cell_type': 'markdown',\n",
       "   'execution_count': None,\n",
       "   'metadata': {},\n",
       "   'outputs': [],\n",
       "   'source': 'Дискриминантная функция: $$f(\\\\overline{x}, \\\\overline{w}, w_0) = \\\\langle \\\\overline{w}, \\\\overline{x} \\\\rangle - w_0$$\\n\\nРешающее правило: $$a(\\\\overline{x}, \\\\overline{w}, w_0) = \\n\\\\left[ \\n  \\\\begin{gathered} \\n      1, \\\\langle \\\\overline{w}, \\\\overline{x} \\\\rangle - w_0 > 0,\\n      \\\\\\\\ \\n      0, \\\\langle \\\\overline{w}, \\\\overline{x} \\\\rangle - w_0 \\\\leqslant 0\\n      \\\\\\\\ \\n    \\\\end{gathered} \\n\\\\right.$$\\n\\nКритерий - минимизация эмпирического риска:\\n\\n$$\\n  \\\\sum_{i=1}^{l} \\\\Bigl[ a(\\\\overline{x_i}, \\\\overline{w}, w_0) \\\\ne y_i \\\\Bigr] =   \\\\sum_{i=1}^{l} \\\\Bigl[ M_i(\\\\overline{w}, w_0) < 0 \\\\Bigr] \\\\longrightarrow  \\\\displaystyle \\\\min_{\\\\overline{w}, w_0}\\n$$\\n\\nгде $M_i(\\\\overline{w}, w_0) = ( \\\\langle \\\\overline{w}, \\\\overline{x_i} \\\\rangle - w_0 ) \\\\cdot sign(y_i > 0.5)$\\n'},\n",
       "  {'cell_type': 'markdown',\n",
       "   'execution_count': None,\n",
       "   'metadata': {},\n",
       "   'outputs': [],\n",
       "   'source': '<img src=\"imgs/2.jpg\" width=500>\\n<br><br>\\n$$\\nQ(\\\\overline{w}, w_0) = \\\\sum_{i=1}^{l} \\\\Bigl[ M_i(\\\\overline{w}, w_0) < 0 \\\\Bigr] \\\\leqslant \\\\sum_{i=1}^{l} \\\\bigl(1 - M_i(\\\\overline{w}, w_0) \\\\bigr)_{\\\\!+} + \\\\frac{1}{C} \\\\sum_{j=1}^{n}w_j^2 \\\\longrightarrow  \\\\displaystyle \\\\min_{\\\\overline{w}, w_0}\\n$$\\n'},\n",
       "  {'cell_type': 'markdown',\n",
       "   'execution_count': None,\n",
       "   'metadata': {},\n",
       "   'outputs': [],\n",
       "   'source': '<img src=\"imgs/3.png\" width=400>\\n'},\n",
       "  {'cell_type': 'markdown',\n",
       "   'execution_count': None,\n",
       "   'metadata': {},\n",
       "   'outputs': [],\n",
       "   'source': 'Новое решающее правило:\\n\\n$$a(\\\\overline{x}, \\\\overline{w}, w_0) = \\n\\\\left[ \\n  \\\\begin{gathered} \\n      1, \\\\sum_{i=1} ^{l} \\\\bigl(\\\\lambda _i \\\\cdot \\\\langle \\\\overline{x_i}, \\\\overline{x} \\\\rangle \\\\cdot sign(y_i > 0.5)\\\\bigr)  - w_0 > 0,\\n      \\\\\\\\ \\n      0, иначе\\n      \\\\\\\\ \\n    \\\\end{gathered} \\n\\\\right.$$\\n\\nгде $w_0 = \\\\sum_{i=1} ^{l} \\\\bigl(\\\\lambda _i \\\\cdot \\\\langle \\\\overline{x_i}, \\\\overline{x_k} \\\\rangle \\\\cdot sign(y_i > 0.5) - y_k\\\\bigr)$ для такого $k$, что  $\\\\lambda_k > 0, M_j=1$\\n'},\n",
       "  {'cell_type': 'markdown',\n",
       "   'execution_count': None,\n",
       "   'metadata': {},\n",
       "   'outputs': [],\n",
       "   'source': \"# Kernel trick\\n$$\\\\varphi: X \\\\rightarrow H$$\\n\\n$$K(\\\\overline{x}, \\\\overline{x}') =  \\\\langle \\\\varphi(\\\\overline{x}),\\\\varphi(\\\\overline{x}') \\\\rangle $$\\n\"},\n",
       "  {'cell_type': 'code',\n",
       "   'execution_count': None,\n",
       "   'metadata': {},\n",
       "   'outputs': [],\n",
       "   'source': 'from IPython.display import HTML\\n\\nHTML(data=\"\"\"<iframe width=\"854\" height=\"480\" src=\"https://www.youtube.com/embed/3liCbRZPrZA\" \\n            frameborder=\"0\" allowfullscreen></iframe>\"\"\")\\n'},\n",
       "  {'cell_type': 'code',\n",
       "   'execution_count': None,\n",
       "   'metadata': {},\n",
       "   'outputs': [],\n",
       "   'source': 'HTML(data=\"\"\"<iframe width=\"854\" height=\"480\" src=\"https://www.youtube.com/embed/MxUy7hKIU8c\" \\nframeborder=\"0\" allowfullscreen></iframe>\"\"\")\\n'},\n",
       "  {'cell_type': 'markdown',\n",
       "   'execution_count': None,\n",
       "   'metadata': {},\n",
       "   'outputs': [],\n",
       "   'source': '<img src=\"imgs/4.jpg\" width=700>\\nКод, который генерит эти изображения:\\nhttp://scikit-learn.org/stable/auto_examples/exercises/plot_iris_exercise.html#sphx-glr-auto-examples-exercises-plot-iris-exercise-py\\n'},\n",
       "  {'cell_type': 'code',\n",
       "   'execution_count': None,\n",
       "   'metadata': {},\n",
       "   'outputs': [],\n",
       "   'source': \"from sklearn.datasets import load_iris\\nget_ipython().run_line_magic('matplotlib', 'inline')\\nget_ipython().run_line_magic('pylab', 'inline')\\n\\nfigure(figsize=(8,8))\\niris = load_iris()\\nX = iris.data\\ny = iris.target\\nX = X[y != 2, :]\\ny = y[y != 2]\\nX = X[:, [0, 1]]\\n\\nfrom sklearn.svm import SVC\\nsvc = SVC(probability=True, kernel='rbf', gamma=100)\\nsvc.fit(X, y)\\n\\nX_0 = X[y==0, :]\\nX_1 = X[y==1, :]\\n\\n\\nxx, yy = np.meshgrid(np.arange(4., 7.5, 0.01),\\n                     np.arange(1.5, 5., 0.01))\\n\\nZ = svc.predict_proba(np.c_[xx.ravel(), yy.ravel()])[:,1]\\nZ = Z.reshape(xx.shape)\\ncs = plt.contourf(xx, yy, Z, alpha=0.5, cmap=plt.cm.RdBu)\\n\\nscatter(X_0[:,0], X_0[:,1], c='r')\\n_ = scatter(X_1[:,0], X_1[:,1], c='b')\\n\"},\n",
       "  {'cell_type': 'markdown',\n",
       "   'execution_count': None,\n",
       "   'metadata': {},\n",
       "   'outputs': [],\n",
       "   'source': \"SVM можно использовать и для регрессии:\\n<a href='http://scikit-learn.org/stable/modules/generated/sklearn.svm.SVR.html'>sklearn.svm.SVR</a>\\n\"},\n",
       "  {'cell_type': 'markdown',\n",
       "   'execution_count': None,\n",
       "   'metadata': {},\n",
       "   'outputs': [],\n",
       "   'source': '<img src=\"http://scikit-learn.sourceforge.net/stable/_images/plot_svm_regression_001.png\">\\n'},\n",
       "  {'cell_type': 'code',\n",
       "   'execution_count': None,\n",
       "   'metadata': {},\n",
       "   'outputs': [],\n",
       "   'source': '\\n'}]}"
      ]
     },
     "execution_count": 83,
     "metadata": {},
     "output_type": "execute_result"
    }
   ],
   "source": [
    "generate_notebook_ipynb(df,df_row_idx=23191647)"
   ]
  },
  {
   "cell_type": "code",
   "execution_count": 89,
   "metadata": {},
   "outputs": [],
   "source": [
    "def save_jupyter_notebook_ipynb(raw_json, notebook_id, folder):\n",
    "    fname = '.'.join((str(notebook_id), 'ipynb'))\n",
    "    path = os.path.join(folder, fname)\n",
    "    \n",
    "    with open(path, 'w') as out_f:\n",
    "        json.dump(raw_json, out_f)"
   ]
  },
  {
   "cell_type": "code",
   "execution_count": 90,
   "metadata": {},
   "outputs": [],
   "source": [
    "save_jupyter_notebook_ipynb(raw_json=generate_notebook_ipynb(df,df_row_idx=23191647),\n",
    "                            notebook_id=808459,\n",
    "                            folder=FOLDER)"
   ]
  },
  {
   "cell_type": "code",
   "execution_count": null,
   "outputs": [],
   "source": [],
   "metadata": {
    "collapsed": false,
    "pycharm": {
     "name": "#%%\n"
    }
   }
  },
  {
   "cell_type": "code",
   "execution_count": null,
   "metadata": {},
   "outputs": [],
   "source": []
  }
 ],
 "metadata": {
  "kernelspec": {
   "display_name": "Python 3",
   "language": "python",
   "name": "python3"
  },
  "language_info": {
   "codemirror_mode": {
    "name": "ipython",
    "version": 3
   },
   "file_extension": ".py",
   "mimetype": "text/x-python",
   "name": "python",
   "nbconvert_exporter": "python",
   "pygments_lexer": "ipython3",
   "version": "3.7.8"
  }
 },
 "nbformat": 4,
 "nbformat_minor": 1
}